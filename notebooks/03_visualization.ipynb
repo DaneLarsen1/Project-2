{
 "cells": [
  {
   "cell_type": "code",
   "execution_count": null,
   "metadata": {},
   "outputs": [],
   "source": [
    "import pandas as pd\n",
    "import numpy as np\n",
    "# from sklearn.model_selection import train_test_split\n",
    "# from sklearn.linear_model import LinearRegression\n",
    "# from sklearn.metrics import mean_squared_error\n",
    "import matplotlib.pyplot as plt\n",
    "import seaborn as sns\n",
    "import folium"
   ]
  },
  {
   "cell_type": "code",
   "execution_count": null,
   "metadata": {},
   "outputs": [],
   "source": [
    "data = pd.read_csv('../data/processed/uber_data_transformed.csv') \n",
    "# print(data.head())"
   ]
  },
  {
   "cell_type": "code",
   "execution_count": null,
   "metadata": {},
   "outputs": [],
   "source": [
    "Q1_distance = data['trip_distance_miles'].quantile(0.10)  # 10th percentile\n",
    "Q3_distance = data['trip_distance_miles'].quantile(0.90)  # 90th percentile\n",
    "\n",
    "IQR_distance = Q3_distance - Q1_distance\n",
    "data = data[(data['trip_distance_miles'] >= (Q1_distance - 1.5 * IQR_distance)) & \n",
    "            (data['trip_distance_miles'] <= (Q3_distance + 1.5 * IQR_distance))]\n",
    "\n",
    "print(f\"Data numbers after filter: {data.shape}\")"
   ]
  },
  {
   "cell_type": "code",
   "execution_count": null,
   "metadata": {},
   "outputs": [],
   "source": [
    "sns.set(style=\"whitegrid\") \n",
    "palette = sns.color_palette(\"Set2\")"
   ]
  },
  {
   "cell_type": "code",
   "execution_count": null,
   "metadata": {},
   "outputs": [],
   "source": [
    "# Average Fare (HOD,DOW) Heatmap filtered by milage 1-2 miles to ensure accuracy\n",
    "min_miles = 1  \n",
    "max_miles = 2  \n",
    "filtered_data = data[(data['trip_distance_miles'] >= min_miles) & (data['trip_distance_miles'] <= max_miles)]\n",
    "\n",
    "heatmap_data = (\n",
    "    filtered_data.groupby(['pickup_hour', 'pickup_day_of_week'])['fare_amount']\n",
    "    .mean()\n",
    "    .unstack()  \n",
    ")\n",
    "heatmap_data = heatmap_data.sort_index()\n",
    "\n",
    "plt.figure(figsize=(10, 6))\n",
    "sns.heatmap(heatmap_data, annot=True, fmt=\".2f\", linewidths=.5, cmap='coolwarm', vmin=7.5, vmax=10)\n",
    "plt.title('Average Fare Amount by Pickup Hour and Day of the Week (Filtered by Distance)', fontsize=16)\n",
    "plt.xlabel('Pickup Day of the Week', fontsize=12)\n",
    "plt.ylabel('Pickup Hour', fontsize=12)\n",
    "plt.xticks(ticks=np.arange(7) + 0.5, labels=[\"Mon\", \"Tue\", \"Wed\", \"Thu\", \"Fri\", \"Sat\", \"Sun\"])\n",
    "plt.show()"
   ]
  },
  {
   "cell_type": "code",
   "execution_count": null,
   "metadata": {},
   "outputs": [],
   "source": [
    "filtered_data = data[(data['trip_distance_miles'] > 0) & (data['fare_amount'] > 0)]\n",
    "\n",
    "plt.figure(figsize=(10, 6))\n",
    "sns.histplot(filtered_data['trip_distance_miles'], bins=50, kde=True)\n",
    "plt.title('Distribution of Trip Distances (Miles)')\n",
    "plt.xlabel('Distance (miles)')\n",
    "plt.ylabel('Frequency')\n",
    "plt.xlim(left=0, right=10)\n",
    "plt.ylim(bottom=0)\n",
    "data.head(500)\n",
    "plt.show()\n",
    "print(filtered_data['trip_distance_miles'].describe())"
   ]
  },
  {
   "cell_type": "code",
   "execution_count": null,
   "metadata": {},
   "outputs": [],
   "source": [
    "# # Scatter Plot\n",
    "plt.figure(figsize=(10, 6))\n",
    "min_fare = 2\n",
    "max_fare = 80\n",
    "filtered_data = data[(data['fare_amount'] >= min_fare) & (data['fare_amount'] <= max_fare)]\n",
    "sns.scatterplot(x='trip_distance_miles', y='fare_amount', data=filtered_data, palette=palette)\n",
    "plt.title('Trip Distance vs. Fare Amount', fontsize=16)\n",
    "plt.xlabel('Trip Distance (miles)', fontsize=12)\n",
    "plt.ylabel('Fare Amount ($)', fontsize=12)\n",
    "plt.xlim(left=0, right=10)\n",
    "plt.ylim(bottom=0,top=100)\n",
    "plt.show()"
   ]
  },
  {
   "cell_type": "code",
   "execution_count": null,
   "metadata": {},
   "outputs": [],
   "source": [
    "# Seasons Violin Plot\n",
    "min_miles = 1  \n",
    "max_miles = 2\n",
    "filtered_data = data[(data['trip_distance_miles'] >= min_miles) & (data['trip_distance_miles'] <= max_miles)]\n",
    "plt.figure(figsize=(12, 6))\n",
    "sns.violinplot(x='season', y='fare_amount', hue='season', data=filtered_data, inner='quartile')\n",
    "plt.title('Distribution of Fare Amounts by Season', fontsize=16)\n",
    "plt.xlabel('Season', fontsize=12)\n",
    "plt.ylabel('Fare Amount ($)', fontsize=12)\n",
    "plt.xticks(rotation=45)\n",
    "plt.ylim(bottom=0,top=25)\n",
    "plt.show()\n",
    "\n",
    "# NOTE INFO\n",
    "# WE CAN SEE THAT FALL HAS THE HIGHEST AVERAGE FARE AND WINTER IS SLIGHTLY THE LOWEST WHICH IS INTERESTING  \n",
    "# MAYBE WE CAN ASSUME PEOPLE WILL MORE OFTEN THEN NOT TAKE SHORTER UBER RIDES IN THE WINTER DUE TO WEATHER \n",
    "# WHICH COULD EXPLAIN THE AVERAGE LOWER FARES OF THOSE SHORTER RIDES, IT ALSO EXPLAINS FALL BEING THE HEIGHEST\n",
    "# SUGGESTING PEOPLE WOULD USUALLY TAKE CONSISTANTLY LONGER RIDES "
   ]
  },
  {
   "cell_type": "code",
   "execution_count": null,
   "metadata": {},
   "outputs": [],
   "source": [
    "plt.figure(figsize=(12, 6))\n",
    "min_miles = 1  \n",
    "max_miles = 2  \n",
    "filtered_data = data[(data['trip_distance_miles'] >= min_miles) & (data['trip_distance_miles'] <= max_miles)]\n",
    "sns.boxplot(x='pickup_hour', y='fare_amount', hue='season', data=filtered_data, dodge=True)\n",
    "plt.title('Fare Amount by Pickup Hour', fontsize=20)\n",
    "plt.xlabel('Pickup Hour', fontsize=14)\n",
    "plt.ylabel('Fare Amount ($)', fontsize=14)\n",
    "plt.xticks(rotation=45)\n",
    "plt.ylim(0, 15)  \n",
    "plt.legend(title='Season', loc='upper right', fontsize='medium', frameon=True)\n",
    "plt.show()"
   ]
  },
  {
   "cell_type": "code",
   "execution_count": null,
   "metadata": {},
   "outputs": [],
   "source": [
    "# Trip Distance to fare Histogram \n",
    "plt.figure(figsize=(8, 5))\n",
    "sns.histplot(data = data.head(500), x = 'trip_distance_miles', \n",
    "    binwidth= .25,\n",
    "    palette=\"light:m_r\",\n",
    "    edgecolor=\".3\",\n",
    "    linewidth=.5, hue=\"season\",\n",
    "    multiple=\"stack\",)\n",
    "plt.title('Distribution of Trip Distances')\n",
    "plt.xlabel('Distance (miles)')\n",
    "plt.ylabel('Frequency(trips)')\n",
    "plt.xlim(left=0, right=10)\n",
    "plt.ylim(bottom=0)\n",
    "data.head(500)\n",
    "plt.show()"
   ]
  },
  {
   "cell_type": "code",
   "execution_count": null,
   "metadata": {},
   "outputs": [],
   "source": [
    "# THIS WAS THE MAP WE DONT HAVE TIME FOR DONT WORRY ABOUT IT FOR NOW\n",
    "\n",
    "\n",
    "\n",
    "# \n",
    "# def create_map(data):\n",
    "#     \"\"\"\n",
    "#     Create a map showing the pickup and drop-off locations.\n",
    "\n",
    "#     Parameters:\n",
    "#         data (DataFrame): The Uber trip data to visualize.\n",
    "\n",
    "#     Returns:\n",
    "#         folium.Map: A map with pickup and drop-off points.\n",
    "#     \"\"\"\n",
    "#     # Initialize map centered around the mean coordinates\n",
    "#     m = folium.Map(location=[data['pickup_latitude'].mean(), data['pickup_longitude'].mean()], zoom_start=12)\n",
    "\n",
    "#     # Add markers for pickup locations\n",
    "#     for idx, row in data.iterrows():\n",
    "#         folium.Marker(\n",
    "#             location=(row['pickup_latitude'], row['pickup_longitude']),\n",
    "#             popup=f\"Pickup: {row['passenger_count']} passengers\\nFare: ${row['fare_amount']:.2f}\",\n",
    "#             icon=folium.Icon(color='blue')\n",
    "#         ).add_to(m)\n",
    "\n",
    "#         # Optionally add drop-off locations\n",
    "#         folium.Marker(\n",
    "#             location=(row['dropoff_latitude'], row['dropoff_longitude']),\n",
    "#             popup=\"Dropoff\",\n",
    "#             icon=folium.Icon(color='red')\n",
    "#         ).add_to(m)\n",
    "\n",
    "#     return m\n",
    "\n",
    "# # Create and save the map\n",
    "# uber_map = create_map(data)\n",
    "# uber_map.save('uber_rides_map.html')\n",
    "\n",
    "# print(\"Map with pickups and drop-offs has been created and saved as 'uber_rides_map.html'.\")"
   ]
  }
 ],
 "metadata": {
  "kernelspec": {
   "display_name": "project-1-env",
   "language": "python",
   "name": "python3"
  },
  "language_info": {
   "codemirror_mode": {
    "name": "ipython",
    "version": 3
   },
   "file_extension": ".py",
   "mimetype": "text/x-python",
   "name": "python",
   "nbconvert_exporter": "python",
   "pygments_lexer": "ipython3",
   "version": "3.10.15"
  }
 },
 "nbformat": 4,
 "nbformat_minor": 2
}
