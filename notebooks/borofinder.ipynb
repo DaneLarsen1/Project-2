{
 "cells": [
  {
   "cell_type": "code",
   "execution_count": 21,
   "metadata": {},
   "outputs": [
    {
     "name": "stdout",
     "output_type": "stream",
     "text": [
      "Requirement already satisfied: geopy in /opt/anaconda3/envs/dev/lib/python3.10/site-packages (2.4.1)\n",
      "Requirement already satisfied: geographiclib<3,>=1.52 in /opt/anaconda3/envs/dev/lib/python3.10/site-packages (from geopy) (2.0)\n"
     ]
    }
   ],
   "source": [
    "! pip install geopy"
   ]
  },
  {
   "cell_type": "code",
   "execution_count": 22,
   "metadata": {},
   "outputs": [],
   "source": [
    "import geopandas as gpd\n",
    "from geopy.geocoders import Nominatim\n",
    "import pandas as pd\n",
    "from shapely.geometry import Point"
   ]
  },
  {
   "cell_type": "markdown",
   "metadata": {},
   "source": [
    "### DO NOT REMOVE BELOW CODE BLOCK AS IT CONTAINS\n",
    "### INTEGRAL INITIZALIZATION THAT MUST BE MOVED BEFORE DELETING"
   ]
  },
  {
   "cell_type": "code",
   "execution_count": 23,
   "metadata": {},
   "outputs": [
    {
     "name": "stdout",
     "output_type": "stream",
     "text": [
      "    Latitude  Longitude                                            Address  \\\n",
      "0  40.748817 -73.985428  Naturalizer, 7, West 34th Street, Midtown Sout...   \n",
      "1  51.507400  -0.127800  Mileage Central Point of London Plaque, Charin...   \n",
      "2  48.856600   2.352200  Hôtel de Ville, Place de l'Hôtel de Ville, Qua...   \n",
      "\n",
      "                     geometry  \n",
      "0  POINT (-73.98543 40.74882)  \n",
      "1   POINT (-0.12780 51.50740)  \n",
      "2    POINT (2.35220 48.85660)  \n"
     ]
    }
   ],
   "source": [
    "#DO NOT REMOVE DO NOT REMOVE THIS IS INITIZALIZING THE GEO LOCATOR\n",
    "# REMOVING THIS WILL BREAK AND KILL US ALL\n",
    "# Initialize geolocator\n",
    "geolocator = Nominatim(user_agent=\"myexer\")\n",
    "# Coordinates (latitude, longitude)\n",
    "coords = [(40.748817, -73.985428), (51.5074, -0.1278), (48.8566, 2.3522)]  # Example coordinates\n",
    "# Function to geocode coordinates\n",
    "def geocode_coordinates(lat, lon):\n",
    "    location = geolocator.reverse((lat, lon), language='en')\n",
    "    return location.address if location else None\n",
    "# Create a list of addresses from the coordinates\n",
    "addresses = [geocode_coordinates(lat, lon) for lat, lon in coords]\n",
    "# Create a DataFrame\n",
    "df = pd.DataFrame(coords, columns=['Latitude', 'Longitude'])\n",
    "df['Address'] = addresses\n",
    "# Convert DataFrame to GeoDataFrame\n",
    "geometry = [Point(lon, lat) for lat, lon in coords]\n",
    "gdf = gpd.GeoDataFrame(df, geometry=geometry)\n",
    "# Display the GeoDataFrame\n",
    "print(gdf)"
   ]
  },
  {
   "cell_type": "code",
   "execution_count": 24,
   "metadata": {},
   "outputs": [],
   "source": [
    "def my_geocode_coordinates(lat, lon):\n",
    "    location = geolocator.reverse((lat, lon), language='en')\n",
    "    return location if location else None"
   ]
  },
  {
   "cell_type": "code",
   "execution_count": 25,
   "metadata": {},
   "outputs": [],
   "source": [
    "test = my_geocode_coordinates(40.837048, -73.865433)"
   ]
  },
  {
   "cell_type": "code",
   "execution_count": 26,
   "metadata": {},
   "outputs": [
    {
     "data": {
      "text/plain": [
       "'1475, Thieriot Avenue, The Bronx, Bronx County, New York, 10460, United States'"
      ]
     },
     "execution_count": 26,
     "metadata": {},
     "output_type": "execute_result"
    }
   ],
   "source": [
    "test.address"
   ]
  },
  {
   "cell_type": "code",
   "execution_count": 27,
   "metadata": {},
   "outputs": [
    {
     "data": {
      "text/plain": [
       "{'place_id': 332816141,\n",
       " 'licence': 'Data © OpenStreetMap contributors, ODbL 1.0. http://osm.org/copyright',\n",
       " 'osm_type': 'way',\n",
       " 'osm_id': 281860017,\n",
       " 'lat': '40.8372181',\n",
       " 'lon': '-73.86570288486502',\n",
       " 'class': 'building',\n",
       " 'type': 'yes',\n",
       " 'place_rank': 30,\n",
       " 'importance': 9.175936522464359e-05,\n",
       " 'addresstype': 'building',\n",
       " 'name': '',\n",
       " 'display_name': '1475, Thieriot Avenue, The Bronx, Bronx County, New York, 10460, United States',\n",
       " 'address': {'house_number': '1475',\n",
       "  'road': 'Thieriot Avenue',\n",
       "  'suburb': 'The Bronx',\n",
       "  'city_district': 'Bronx County',\n",
       "  'city': 'New York',\n",
       "  'state': 'New York',\n",
       "  'ISO3166-2-lvl4': 'US-NY',\n",
       "  'postcode': '10460',\n",
       "  'country': 'United States',\n",
       "  'country_code': 'us'},\n",
       " 'boundingbox': ['40.8368253', '40.8375532', '-73.8658881', '-73.8654622']}"
      ]
     },
     "execution_count": 27,
     "metadata": {},
     "output_type": "execute_result"
    }
   ],
   "source": [
    "test.raw"
   ]
  },
  {
   "cell_type": "code",
   "execution_count": 28,
   "metadata": {},
   "outputs": [],
   "source": [
    "#create  with uuid, lat, long that geocodes each row\n",
    "#Creates new all new geographic data into new dataset\n",
    "#Join in to new dataset  with cleaned dataset\n",
    "#For row in lat long columns grab geographic attributes into \n"
   ]
  },
  {
   "cell_type": "code",
   "execution_count": 29,
   "metadata": {},
   "outputs": [],
   "source": [
    "# records = []\n",
    "\n",
    "# for row in my_geo_data:\n",
    "#     trio = {}\n",
    "#     trip['uuid'] = row['uuid']\n",
    "#     trip['city'] = row['city']\n",
    "#     record['state'] = row['state']\n",
    "\n",
    "#     records.append(record)\n",
    "\n",
    "\n",
    "# new_dataset = pd.DataFrame(records)\n",
    "\n",
    "# new_dataset.to_csv(\"\")\n",
    "\n"
   ]
  },
  {
   "cell_type": "code",
   "execution_count": 30,
   "metadata": {},
   "outputs": [
    {
     "name": "stdout",
     "output_type": "stream",
     "text": [
      "/Users/mattrodosky/Desktop/repos/Project-2/notebooks\n",
      "       UUID                            key  fare_amount  \\\n",
      "0  24238194    2015-05-07 19:52:06.0000003          7.5   \n",
      "1  27835199    2009-07-17 20:04:56.0000002          7.7   \n",
      "2  44984355   2009-08-24 21:45:00.00000061         12.9   \n",
      "3  25894730    2009-06-26 08:22:21.0000001          5.3   \n",
      "4  17610152  2014-08-28 17:47:00.000000188         16.0   \n",
      "\n",
      "             pickup_datetime  pickup_longitude  pickup_latitude  \\\n",
      "0  2015-05-07 19:52:06+00:00        -73.999817        40.738354   \n",
      "1  2009-07-17 20:04:56+00:00        -73.994355        40.728225   \n",
      "2  2009-08-24 21:45:00+00:00        -74.005043        40.740770   \n",
      "3  2009-06-26 08:22:21+00:00        -73.976124        40.790844   \n",
      "4  2014-08-28 17:47:00+00:00        -73.925023        40.744085   \n",
      "\n",
      "   dropoff_longitude  dropoff_latitude  passenger_count pickup_time  \n",
      "0         -73.999512         40.723217                1    19:52:06  \n",
      "1         -73.994710         40.750325                1    20:04:56  \n",
      "2         -73.962565         40.772647                1    21:45:00  \n",
      "3         -73.965316         40.803349                3    08:22:21  \n",
      "4         -73.973082         40.761247                5    17:47:00  \n"
     ]
    }
   ],
   "source": [
    "import pandas as pd\n",
    "import os\n",
    "print(os.getcwd())\n",
    "\n",
    "\n",
    "df = pd.read_csv('../data/processed/uber_data_cleaned.csv')\n",
    "df.rename(columns={'Unnamed: 0': 'UUID'}, inplace=True)\n",
    "print(df.head())"
   ]
  },
  {
   "cell_type": "code",
   "execution_count": null,
   "metadata": {},
   "outputs": [],
   "source": []
  },
  {
   "cell_type": "code",
   "execution_count": 39,
   "metadata": {},
   "outputs": [],
   "source": [
    "def get_info(lat, lon):\n",
    "    location = geolocator.reverse((lat, lon), exactly_one=True)\n",
    "    if location:\n",
    "        # Use the get method to safely access keys\n",
    "        address = location.raw.get('address', {})\n",
    "        return {\n",
    "            'address_type': location.raw.get('type', None),\n",
    "            'road': address.get('road', None),\n",
    "            'suburb': address.get('suburb', None),\n",
    "            'city': address.get('city', None),\n",
    "            'state': address.get('state', None),\n",
    "            'postcode': address.get('postcode', None),\n",
    "            'country': address.get('country', None)\n",
    "        }\n",
    "    else:\n",
    "        return None"
   ]
  },
  {
   "cell_type": "code",
   "execution_count": 40,
   "metadata": {},
   "outputs": [],
   "source": [
    "#List to hold records to add to DF\n",
    "records = {}\n",
    "\n",
    "#Loop through rows\n",
    "for index, row in df.iterrows():\n",
    "    uuid = row['UUID']\n",
    "    #Get pickup_address\n",
    "    pickup_info = get_info(row['pickup_latitude'], row['pickup_longitude'])\n",
    "    #Get dropoff_address\n",
    "    dropoff_info = get_info(row['dropoff_latitude'], row['dropoff_longitude'])\n",
    "\n",
    "    #Storing the results in the dictionary\n",
    "    records[uuid] = {\n",
    "        'pickup_info': pickup_info,\n",
    "        'dropoff_info': dropoff_info\n",
    "    }\n",
    "\n",
    "#Print results\n",
    "print(records)\n",
    "    "
   ]
  },
  {
   "cell_type": "code",
   "execution_count": null,
   "metadata": {},
   "outputs": [],
   "source": []
  }
 ],
 "metadata": {
  "kernelspec": {
   "display_name": "dev",
   "language": "python",
   "name": "python3"
  },
  "language_info": {
   "codemirror_mode": {
    "name": "ipython",
    "version": 3
   },
   "file_extension": ".py",
   "mimetype": "text/x-python",
   "name": "python",
   "nbconvert_exporter": "python",
   "pygments_lexer": "ipython3",
   "version": "3.10.14"
  }
 },
 "nbformat": 4,
 "nbformat_minor": 2
}
