{
 "cells": [
  {
   "cell_type": "code",
   "execution_count": 5,
   "metadata": {},
   "outputs": [
    {
     "name": "stdout",
     "output_type": "stream",
     "text": [
      "/Users/mattrodosky/Desktop/repos/Project-2/notebooks\n",
      "   Unnamed: 0                            key  fare_amount  \\\n",
      "0    24238194    2015-05-07 19:52:06.0000003          7.5   \n",
      "1    27835199    2009-07-17 20:04:56.0000002          7.7   \n",
      "2    44984355   2009-08-24 21:45:00.00000061         12.9   \n",
      "3    25894730    2009-06-26 08:22:21.0000001          5.3   \n",
      "4    17610152  2014-08-28 17:47:00.000000188         16.0   \n",
      "\n",
      "           pickup_datetime  pickup_longitude  pickup_latitude  \\\n",
      "0  2015-05-07 19:52:06 UTC        -73.999817        40.738354   \n",
      "1  2009-07-17 20:04:56 UTC        -73.994355        40.728225   \n",
      "2  2009-08-24 21:45:00 UTC        -74.005043        40.740770   \n",
      "3  2009-06-26 08:22:21 UTC        -73.976124        40.790844   \n",
      "4  2014-08-28 17:47:00 UTC        -73.925023        40.744085   \n",
      "\n",
      "   dropoff_longitude  dropoff_latitude  passenger_count  \n",
      "0         -73.999512         40.723217                1  \n",
      "1         -73.994710         40.750325                1  \n",
      "2         -73.962565         40.772647                1  \n",
      "3         -73.965316         40.803349                3  \n",
      "4         -73.973082         40.761247                5  \n"
     ]
    }
   ],
   "source": [
    "import pandas as pd\n",
    "import os\n",
    "print(os.getcwd())\n",
    "\n",
    "\n",
    "df = pd.read_csv('../data/raw/uber.csv') \n",
    "\n",
    "print(df.head())\n",
    "# IF FIRST FEW LINES OF CSV LOAD EVERYTHINGS GOOD :)"
   ]
  },
  {
   "cell_type": "code",
   "execution_count": 6,
   "metadata": {},
   "outputs": [],
   "source": [
    "def clean_uber_data(data):\n",
    "    \"\"\"\n",
    "    Clean the Uber trip data.\n",
    "\n",
    "    Parameters:\n",
    "        data (DataFrame): The Uber trip data to clean.\n",
    "\n",
    "    Returns:\n",
    "        DataFrame: The cleaned Uber trip data.\n",
    "    \"\"\"\n",
    "\n",
    "    # dont touch pls :) converts to normal datetime \n",
    "    if 'pickup_datetime' in data.columns:\n",
    "        data['pickup_datetime'] = pd.to_datetime(data['pickup_datetime'], errors='coerce')\n",
    "        data['pickup_time'] = data['pickup_datetime'].dt.time  # New column with only time\n",
    " \n",
    "    data.drop_duplicates(inplace=True)\n",
    "\n",
    "    # MISSING VALUES DROPPER\n",
    "    data.dropna(subset=['key', 'fare_amount'], inplace=True)\n",
    "\n",
    "    # When passenger amount missing it fills it with a big fat 0\n",
    "    if 'passenger_count' in data.columns:\n",
    "        data['passenger_count'].fillna(0, inplace=True)\n",
    "\n",
    "    # Sometimes data imported from CSV files may contain mixed types \n",
    "    # (some entries may be strings, others could be numbers, etc.). \n",
    "    # This can happen due to formatting issues in the CSV file.\n",
    "\n",
    "    # I did research on .astype(float) because I didnt fully understand so my basic findings are above\n",
    "    if 'fare_amount' in data.columns:\n",
    "        data['fare_amount'] = data['fare_amount'].astype(float)\n",
    "\n",
    "    return data"
   ]
  },
  {
   "cell_type": "code",
   "execution_count": 7,
   "metadata": {},
   "outputs": [
    {
     "name": "stderr",
     "output_type": "stream",
     "text": [
      "/var/folders/fx/7k4d70096813w2_tf7kjpzgr0000gn/T/ipykernel_49417/2860180699.py:24: FutureWarning: A value is trying to be set on a copy of a DataFrame or Series through chained assignment using an inplace method.\n",
      "The behavior will change in pandas 3.0. This inplace method will never work because the intermediate object on which we are setting values always behaves as a copy.\n",
      "\n",
      "For example, when doing 'df[col].method(value, inplace=True)', try using 'df.method({col: value}, inplace=True)' or df[col] = df[col].method(value) instead, to perform the operation inplace on the original object.\n",
      "\n",
      "\n",
      "  data['passenger_count'].fillna(0, inplace=True)\n"
     ]
    }
   ],
   "source": [
    "cleaned_uber_data = clean_uber_data(df)"
   ]
  },
  {
   "cell_type": "code",
   "execution_count": 10,
   "metadata": {},
   "outputs": [
    {
     "name": "stdout",
     "output_type": "stream",
     "text": [
      "Cleaned Uber data saved to ../data/processed/uber_data_cleaned.csv.\n",
      "<class 'pandas.core.frame.DataFrame'>\n",
      "RangeIndex: 200000 entries, 0 to 199999\n",
      "Data columns (total 10 columns):\n",
      " #   Column             Non-Null Count   Dtype              \n",
      "---  ------             --------------   -----              \n",
      " 0   Unnamed: 0         200000 non-null  int64              \n",
      " 1   key                200000 non-null  object             \n",
      " 2   fare_amount        200000 non-null  float64            \n",
      " 3   pickup_datetime    200000 non-null  datetime64[ns, UTC]\n",
      " 4   pickup_longitude   200000 non-null  float64            \n",
      " 5   pickup_latitude    200000 non-null  float64            \n",
      " 6   dropoff_longitude  199999 non-null  float64            \n",
      " 7   dropoff_latitude   199999 non-null  float64            \n",
      " 8   passenger_count    200000 non-null  int64              \n",
      " 9   pickup_time        200000 non-null  object             \n",
      "dtypes: datetime64[ns, UTC](1), float64(5), int64(2), object(2)\n",
      "memory usage: 15.3+ MB\n",
      "None\n"
     ]
    }
   ],
   "source": [
    "cleaned_data_path = '../data/processed/uber_data_cleaned.csv' \n",
    "cleaned_uber_data.to_csv(cleaned_data_path, index=False)\n",
    "\n",
    "print(f\"Cleaned Uber data saved to {cleaned_data_path}.\")\n",
    "print(cleaned_uber_data.info())\n",
    "# IF LOADS MESSAGE ABOVE BE HAPPY \n",
    "#     ∧＿∧\n",
    "# 　 (｡･ω･｡)つ━☆・*。\n",
    "#  ⊂/　  /　   ・゜\n",
    "# 　しーＪ　　　  °。+ * 。　\n",
    "# 　　　　　         .・゜\n",
    "# 　　　　　          ゜｡ﾟﾟ･｡･ﾟﾟ。\n",
    "# 　　　　           　ﾟ。    ｡ﾟ\n",
    "#                     　ﾟ･｡･ﾟ       \n"
   ]
  }
 ],
 "metadata": {
  "kernelspec": {
   "display_name": "project-1-env",
   "language": "python",
   "name": "python3"
  },
  "language_info": {
   "codemirror_mode": {
    "name": "ipython",
    "version": 3
   },
   "file_extension": ".py",
   "mimetype": "text/x-python",
   "name": "python",
   "nbconvert_exporter": "python",
   "pygments_lexer": "ipython3",
   "version": "3.10.14"
  }
 },
 "nbformat": 4,
 "nbformat_minor": 2
}
