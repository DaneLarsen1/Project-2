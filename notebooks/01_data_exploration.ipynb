{
 "cells": [
  {
   "cell_type": "code",
   "execution_count": 10,
   "metadata": {},
   "outputs": [],
   "source": [
    "import pandas as pd\n",
    "import numpy as np\n",
    "from geopy.distance import great_circle "
   ]
  },
  {
   "cell_type": "code",
   "execution_count": 11,
   "metadata": {},
   "outputs": [
    {
     "name": "stdout",
     "output_type": "stream",
     "text": [
      "Original Data Overview:\n",
      "   Unnamed: 0                            key  fare_amount  \\\n",
      "0    24238194    2015-05-07 19:52:06.0000003          7.5   \n",
      "1    27835199    2009-07-17 20:04:56.0000002          7.7   \n",
      "2    44984355   2009-08-24 21:45:00.00000061         12.9   \n",
      "3    25894730    2009-06-26 08:22:21.0000001          5.3   \n",
      "4    17610152  2014-08-28 17:47:00.000000188         16.0   \n",
      "\n",
      "           pickup_datetime  pickup_longitude  pickup_latitude  \\\n",
      "0  2015-05-07 19:52:06 UTC        -73.999817        40.738354   \n",
      "1  2009-07-17 20:04:56 UTC        -73.994355        40.728225   \n",
      "2  2009-08-24 21:45:00 UTC        -74.005043        40.740770   \n",
      "3  2009-06-26 08:22:21 UTC        -73.976124        40.790844   \n",
      "4  2014-08-28 17:47:00 UTC        -73.925023        40.744085   \n",
      "\n",
      "   dropoff_longitude  dropoff_latitude  passenger_count  \n",
      "0         -73.999512         40.723217                1  \n",
      "1         -73.994710         40.750325                1  \n",
      "2         -73.962565         40.772647                1  \n",
      "3         -73.965316         40.803349                3  \n",
      "4         -73.973082         40.761247                5  \n"
     ]
    }
   ],
   "source": [
    "df = pd.read_csv('../data/raw/uber.csv') \n",
    "\n",
    "print(\"Original Data Overview:\")\n",
    "print(df.head())"
   ]
  },
  {
   "cell_type": "code",
   "execution_count": 12,
   "metadata": {},
   "outputs": [
    {
     "data": {
      "text/html": [
       "<div>\n",
       "<style scoped>\n",
       "    .dataframe tbody tr th:only-of-type {\n",
       "        vertical-align: middle;\n",
       "    }\n",
       "\n",
       "    .dataframe tbody tr th {\n",
       "        vertical-align: top;\n",
       "    }\n",
       "\n",
       "    .dataframe thead th {\n",
       "        text-align: right;\n",
       "    }\n",
       "</style>\n",
       "<table border=\"1\" class=\"dataframe\">\n",
       "  <thead>\n",
       "    <tr style=\"text-align: right;\">\n",
       "      <th></th>\n",
       "      <th>fare_amount</th>\n",
       "      <th>pickup_datetime</th>\n",
       "      <th>pickup_longitude</th>\n",
       "      <th>pickup_latitude</th>\n",
       "      <th>dropoff_longitude</th>\n",
       "      <th>dropoff_latitude</th>\n",
       "      <th>passenger_count</th>\n",
       "    </tr>\n",
       "  </thead>\n",
       "  <tbody>\n",
       "    <tr>\n",
       "      <th>0</th>\n",
       "      <td>7.5</td>\n",
       "      <td>2015-05-07 19:52:06 UTC</td>\n",
       "      <td>-73.999817</td>\n",
       "      <td>40.738354</td>\n",
       "      <td>-73.999512</td>\n",
       "      <td>40.723217</td>\n",
       "      <td>1</td>\n",
       "    </tr>\n",
       "    <tr>\n",
       "      <th>1</th>\n",
       "      <td>7.7</td>\n",
       "      <td>2009-07-17 20:04:56 UTC</td>\n",
       "      <td>-73.994355</td>\n",
       "      <td>40.728225</td>\n",
       "      <td>-73.994710</td>\n",
       "      <td>40.750325</td>\n",
       "      <td>1</td>\n",
       "    </tr>\n",
       "    <tr>\n",
       "      <th>2</th>\n",
       "      <td>12.9</td>\n",
       "      <td>2009-08-24 21:45:00 UTC</td>\n",
       "      <td>-74.005043</td>\n",
       "      <td>40.740770</td>\n",
       "      <td>-73.962565</td>\n",
       "      <td>40.772647</td>\n",
       "      <td>1</td>\n",
       "    </tr>\n",
       "    <tr>\n",
       "      <th>3</th>\n",
       "      <td>5.3</td>\n",
       "      <td>2009-06-26 08:22:21 UTC</td>\n",
       "      <td>-73.976124</td>\n",
       "      <td>40.790844</td>\n",
       "      <td>-73.965316</td>\n",
       "      <td>40.803349</td>\n",
       "      <td>3</td>\n",
       "    </tr>\n",
       "    <tr>\n",
       "      <th>4</th>\n",
       "      <td>16.0</td>\n",
       "      <td>2014-08-28 17:47:00 UTC</td>\n",
       "      <td>-73.925023</td>\n",
       "      <td>40.744085</td>\n",
       "      <td>-73.973082</td>\n",
       "      <td>40.761247</td>\n",
       "      <td>5</td>\n",
       "    </tr>\n",
       "  </tbody>\n",
       "</table>\n",
       "</div>"
      ],
      "text/plain": [
       "   fare_amount          pickup_datetime  pickup_longitude  pickup_latitude  \\\n",
       "0          7.5  2015-05-07 19:52:06 UTC        -73.999817        40.738354   \n",
       "1          7.7  2009-07-17 20:04:56 UTC        -73.994355        40.728225   \n",
       "2         12.9  2009-08-24 21:45:00 UTC        -74.005043        40.740770   \n",
       "3          5.3  2009-06-26 08:22:21 UTC        -73.976124        40.790844   \n",
       "4         16.0  2014-08-28 17:47:00 UTC        -73.925023        40.744085   \n",
       "\n",
       "   dropoff_longitude  dropoff_latitude  passenger_count  \n",
       "0         -73.999512         40.723217                1  \n",
       "1         -73.994710         40.750325                1  \n",
       "2         -73.962565         40.772647                1  \n",
       "3         -73.965316         40.803349                3  \n",
       "4         -73.973082         40.761247                5  "
      ]
     },
     "metadata": {},
     "output_type": "display_data"
    }
   ],
   "source": [
    "unnamed_cols = ['Unnamed: 0', 'key']\n",
    "df.drop(columns=[col for col in unnamed_cols if col in df.columns], inplace=True)\n",
    "\n",
    "display(df.head())"
   ]
  },
  {
   "cell_type": "code",
   "execution_count": 13,
   "metadata": {},
   "outputs": [],
   "source": [
    "def clean_uber_data(data):\n",
    "    \"\"\"\n",
    "    Clean the Uber trip data and validate coordinates.\n",
    "\n",
    "    Parameters:\n",
    "        data (DataFrame): The Uber trip data to clean.\n",
    "\n",
    "    Returns:\n",
    "        DataFrame: The cleaned Uber trip data.\n",
    "    \"\"\"\n",
    "    \n",
    "    if 'pickup_datetime' in data.columns:\n",
    "        data['pickup_datetime'] = pd.to_datetime(data['pickup_datetime'], errors='coerce')\n",
    "        \n",
    "    data.drop_duplicates(inplace=True)\n",
    "\n",
    "    data.dropna(subset=['fare_amount'], inplace=True) \n",
    "    if 'passenger_count' in data.columns:\n",
    "        data['passenger_count'] = data['passenger_count'].fillna(0) \n",
    "\n",
    "    if 'fare_amount' in data.columns:\n",
    "        data['fare_amount'] = data['fare_amount'].astype(float)\n",
    "\n",
    "    data = data[\n",
    "        (data['pickup_latitude'] >= -90) & (data['pickup_latitude'] <= 90) &\n",
    "        (data['pickup_longitude'] >= -180) & (data['pickup_longitude'] <= 180) &\n",
    "        (data['dropoff_latitude'] >= -90) & (data['dropoff_latitude'] <= 90) &\n",
    "        (data['dropoff_longitude'] >= -180) & (data['dropoff_longitude'] <= 180)\n",
    "    ]\n",
    "\n",
    "\n",
    "\n",
    "\n",
    "    return data"
   ]
  },
  {
   "cell_type": "code",
   "execution_count": 14,
   "metadata": {},
   "outputs": [
    {
     "name": "stdout",
     "output_type": "stream",
     "text": [
      "Cleaned Data Overview:\n",
      "   fare_amount           pickup_datetime  pickup_longitude  pickup_latitude  \\\n",
      "0          7.5 2015-05-07 19:52:06+00:00        -73.999817        40.738354   \n",
      "1          7.7 2009-07-17 20:04:56+00:00        -73.994355        40.728225   \n",
      "2         12.9 2009-08-24 21:45:00+00:00        -74.005043        40.740770   \n",
      "3          5.3 2009-06-26 08:22:21+00:00        -73.976124        40.790844   \n",
      "4         16.0 2014-08-28 17:47:00+00:00        -73.925023        40.744085   \n",
      "\n",
      "   dropoff_longitude  dropoff_latitude  passenger_count  \n",
      "0         -73.999512         40.723217                1  \n",
      "1         -73.994710         40.750325                1  \n",
      "2         -73.962565         40.772647                1  \n",
      "3         -73.965316         40.803349                3  \n",
      "4         -73.973082         40.761247                5  \n"
     ]
    }
   ],
   "source": [
    "\n",
    "cleaned_uber_data = clean_uber_data(df)\n",
    "\n",
    "print(\"Cleaned Data Overview:\")\n",
    "print(cleaned_uber_data.head())"
   ]
  },
  {
   "cell_type": "code",
   "execution_count": 15,
   "metadata": {},
   "outputs": [],
   "source": [
    "def transform_uber_data(data):\n",
    "    \"\"\"\n",
    "    Transform the Uber trip data by creating new features.\n",
    "\n",
    "    Parameters:\n",
    "        data (DataFrame): The Uber trip data to transform.\n",
    "\n",
    "    Returns:\n",
    "        DataFrame: The transformed Uber trip data.\n",
    "    \"\"\"\n",
    "    \n",
    "    data = data.copy()\n",
    "\n",
    "    # ONLY HOUR INDICATOR \n",
    "    if 'pickup_datetime' in data.columns:\n",
    "        data.loc[:, 'pickup_hour'] = data['pickup_datetime'].dt.hour\n",
    "\n",
    "    # DAY OF WEEK INDICATOR (mon= 0, sun= 6)\n",
    "    if 'pickup_datetime' in data.columns:\n",
    "        data.loc[:, 'pickup_day_of_week'] = data['pickup_datetime'].dt.dayofweek\n",
    "\n",
    "    # SEASON INDICATOR\n",
    "    if 'pickup_datetime' in data.columns:\n",
    "        data.loc[:, 'season'] = np.where(data['pickup_datetime'].dt.month.isin([12, 1, 2]), 'Winter',\n",
    "                                      np.where(data['pickup_datetime'].dt.month.isin([3, 4, 5]), 'Spring',\n",
    "                                      np.where(data['pickup_datetime'].dt.month.isin([6, 7, 8]), 'Summer', 'Fall')))\n",
    "        \n",
    "#    MUST HAVE DROP OFF COORDS TO CALC\n",
    "    if 'pickup_latitude' in data.columns and 'pickup_longitude' in data.columns:\n",
    "        if 'dropoff_latitude' in data.columns and 'dropoff_longitude' in data.columns:\n",
    "            km_to_miles = 0.621371\n",
    "            data.loc[:, 'trip_distance_miles'] = data.apply(\n",
    "                lambda row: great_circle(\n",
    "                    (row['pickup_latitude'], row['pickup_longitude']),\n",
    "                    (row['dropoff_latitude'], row['dropoff_longitude'])\n",
    "                ).kilometers * km_to_miles,\n",
    "                axis=1\n",
    "    )\n",
    "\n",
    "    return data"
   ]
  },
  {
   "cell_type": "code",
   "execution_count": 16,
   "metadata": {},
   "outputs": [
    {
     "name": "stdout",
     "output_type": "stream",
     "text": [
      "Transformed Data Overview:\n",
      "   fare_amount           pickup_datetime  pickup_longitude  pickup_latitude  \\\n",
      "0          7.5 2015-05-07 19:52:06+00:00        -73.999817        40.738354   \n",
      "1          7.7 2009-07-17 20:04:56+00:00        -73.994355        40.728225   \n",
      "2         12.9 2009-08-24 21:45:00+00:00        -74.005043        40.740770   \n",
      "3          5.3 2009-06-26 08:22:21+00:00        -73.976124        40.790844   \n",
      "4         16.0 2014-08-28 17:47:00+00:00        -73.925023        40.744085   \n",
      "\n",
      "   dropoff_longitude  dropoff_latitude  passenger_count  pickup_hour  \\\n",
      "0         -73.999512         40.723217                1           19   \n",
      "1         -73.994710         40.750325                1           20   \n",
      "2         -73.962565         40.772647                1           21   \n",
      "3         -73.965316         40.803349                3            8   \n",
      "4         -73.973082         40.761247                5           17   \n",
      "\n",
      "   pickup_day_of_week  season  trip_distance_miles  \n",
      "0                   3  Spring             1.045969  \n",
      "1                   4  Summer             1.527077  \n",
      "2                   0  Summer             3.129463  \n",
      "3                   4  Summer             1.032523  \n",
      "4                   3  Summer             2.780919  \n"
     ]
    }
   ],
   "source": [
    "transformed_uber_data = transform_uber_data(cleaned_uber_data)\n",
    "\n",
    "print(\"Transformed Data Overview:\")\n",
    "print(transformed_uber_data.head())"
   ]
  },
  {
   "cell_type": "code",
   "execution_count": 17,
   "metadata": {},
   "outputs": [
    {
     "name": "stdout",
     "output_type": "stream",
     "text": [
      "Transformed Uber data saved to ../data/processed/uber_data_transformed.csv.\n"
     ]
    }
   ],
   "source": [
    "transformed_data_path = '../data/processed/uber_data_transformed.csv'\n",
    "transformed_uber_data.to_csv(transformed_data_path, index=False) \n",
    "\n",
    "print(f\"Transformed Uber data saved to {transformed_data_path}.\")"
   ]
  },
  {
   "cell_type": "code",
   "execution_count": 18,
   "metadata": {},
   "outputs": [
    {
     "name": "stdout",
     "output_type": "stream",
     "text": [
      "Verified Transformed Data Overview:\n",
      "   fare_amount            pickup_datetime  pickup_longitude  pickup_latitude  \\\n",
      "0          7.5  2015-05-07 19:52:06+00:00        -73.999817        40.738354   \n",
      "1          7.7  2009-07-17 20:04:56+00:00        -73.994355        40.728225   \n",
      "2         12.9  2009-08-24 21:45:00+00:00        -74.005043        40.740770   \n",
      "3          5.3  2009-06-26 08:22:21+00:00        -73.976124        40.790844   \n",
      "4         16.0  2014-08-28 17:47:00+00:00        -73.925023        40.744085   \n",
      "\n",
      "   dropoff_longitude  dropoff_latitude  passenger_count  pickup_hour  \\\n",
      "0         -73.999512         40.723217                1           19   \n",
      "1         -73.994710         40.750325                1           20   \n",
      "2         -73.962565         40.772647                1           21   \n",
      "3         -73.965316         40.803349                3            8   \n",
      "4         -73.973082         40.761247                5           17   \n",
      "\n",
      "   pickup_day_of_week  season  trip_distance_miles  \n",
      "0                   3  Spring             1.045969  \n",
      "1                   4  Summer             1.527077  \n",
      "2                   0  Summer             3.129463  \n",
      "3                   4  Summer             1.032523  \n",
      "4                   3  Summer             2.780919  \n"
     ]
    }
   ],
   "source": [
    "verified_data = pd.read_csv(transformed_data_path)\n",
    "\n",
    "print(\"Verified Transformed Data Overview:\")\n",
    "print(verified_data.head())\n",
    "# IF LOADS MESSAGE ABOVE BE HAPPY \n",
    "#     ∧＿∧\n",
    "# 　 (｡･ω･｡)つ━☆・*。\n",
    "#  ⊂/　  /　   ・゜\n",
    "# 　しーＪ　　　  °。+ * 。　\n",
    "# 　　　　　         .・゜\n",
    "# 　　　　　          ゜｡ﾟﾟ･｡･ﾟﾟ。\n",
    "# 　　　　           　ﾟ。    ｡ﾟ\n",
    "#                     　ﾟ･｡･ﾟ       \n"
   ]
  }
 ],
 "metadata": {
  "kernelspec": {
   "display_name": "project-1-env",
   "language": "python",
   "name": "python3"
  },
  "language_info": {
   "codemirror_mode": {
    "name": "ipython",
    "version": 3
   },
   "file_extension": ".py",
   "mimetype": "text/x-python",
   "name": "python",
   "nbconvert_exporter": "python",
   "pygments_lexer": "ipython3",
   "version": "3.10.15"
  }
 },
 "nbformat": 4,
 "nbformat_minor": 2
}
