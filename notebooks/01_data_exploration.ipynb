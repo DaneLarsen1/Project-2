{
 "cells": [
  {
   "cell_type": "code",
   "execution_count": null,
   "metadata": {},
   "outputs": [],
   "source": [
    "import pandas as pd\n",
    "import numpy as np\n",
    "from geopy.distance import great_circle "
   ]
  },
  {
   "cell_type": "code",
   "execution_count": null,
   "metadata": {},
   "outputs": [],
   "source": [
    "df = pd.read_csv('../data/raw/uber.csv') \n",
    "\n",
    "print(\"Original Data Overview:\")\n",
    "print(df.head())"
   ]
  },
  {
   "cell_type": "code",
   "execution_count": null,
   "metadata": {},
   "outputs": [],
   "source": [
    "# unnamed_cols = ['Unnamed: 0', 'key']\n",
    "# df.drop(columns=[col for col in unnamed_cols if col in df.columns], inplace=True)\n",
    "\n",
    "display(df.head())"
   ]
  },
  {
   "cell_type": "code",
   "execution_count": null,
   "metadata": {},
   "outputs": [],
   "source": [
    "def clean_uber_data(data):\n",
    "    \"\"\"\n",
    "    Clean the Uber trip data and validate coordinates.\n",
    "\n",
    "    Parameters:\n",
    "        data (DataFrame): The Uber trip data to clean.\n",
    "\n",
    "    Returns:\n",
    "        DataFrame: The cleaned Uber trip data.\n",
    "    \"\"\"\n",
    "    \n",
    "    if 'pickup_datetime' in data.columns:\n",
    "        data['pickup_datetime'] = pd.to_datetime(data['pickup_datetime'], errors='coerce')\n",
    "        \n",
    "    data.drop_duplicates(inplace=True)\n",
    "\n",
    "    data.dropna(subset=['fare_amount'], inplace=True) \n",
    "    if 'passenger_count' in data.columns:\n",
    "        data['passenger_count'] = data['passenger_count'].fillna(0) \n",
    "\n",
    "    if 'fare_amount' in data.columns:\n",
    "        data['fare_amount'] = data['fare_amount'].astype(float)\n",
    "\n",
    "    data = data[\n",
    "        (data['pickup_latitude'] >= -90) & (data['pickup_latitude'] <= 90) &\n",
    "        (data['pickup_longitude'] >= -180) & (data['pickup_longitude'] <= 180) &\n",
    "        (data['dropoff_latitude'] >= -90) & (data['dropoff_latitude'] <= 90) &\n",
    "        (data['dropoff_longitude'] >= -180) & (data['dropoff_longitude'] <= 180)\n",
    "    ]\n",
    "\n",
    "\n",
    "\n",
    "\n",
    "    return data"
   ]
  },
  {
   "cell_type": "code",
   "execution_count": null,
   "metadata": {},
   "outputs": [],
   "source": [
    "\n",
    "cleaned_uber_data = clean_uber_data(df)\n",
    "\n",
    "print(\"Cleaned Data Overview:\")\n",
    "print(cleaned_uber_data.head())"
   ]
  },
  {
   "cell_type": "code",
   "execution_count": null,
   "metadata": {},
   "outputs": [],
   "source": [
    "def transform_uber_data(data):\n",
    "    \"\"\"\n",
    "    Transform the Uber trip data by creating new features.\n",
    "\n",
    "    Parameters:\n",
    "        data (DataFrame): The Uber trip data to transform.\n",
    "\n",
    "    Returns:\n",
    "        DataFrame: The transformed Uber trip data.\n",
    "    \"\"\"\n",
    "    \n",
    "    data = data.copy()\n",
    "\n",
    "    # ONLY HOUR INDICATOR \n",
    "    if 'pickup_datetime' in data.columns:\n",
    "        data.loc[:, 'pickup_hour'] = data['pickup_datetime'].dt.hour\n",
    "\n",
    "    # DAY OF WEEK INDICATOR (mon= 0, sun= 6)\n",
    "    if 'pickup_datetime' in data.columns:\n",
    "        data.loc[:, 'pickup_day_of_week'] = data['pickup_datetime'].dt.dayofweek\n",
    "\n",
    "    # SEASON INDICATOR\n",
    "    if 'pickup_datetime' in data.columns:\n",
    "        data.loc[:, 'season'] = np.where(data['pickup_datetime'].dt.month.isin([12, 1, 2]), 'Winter',\n",
    "                                      np.where(data['pickup_datetime'].dt.month.isin([3, 4, 5]), 'Spring',\n",
    "                                      np.where(data['pickup_datetime'].dt.month.isin([6, 7, 8]), 'Summer', 'Fall')))\n",
    "        \n",
    "#    MUST HAVE DROP OFF COORDS TO CALC\n",
    "    if 'pickup_latitude' in data.columns and 'pickup_longitude' in data.columns:\n",
    "        if 'dropoff_latitude' in data.columns and 'dropoff_longitude' in data.columns:\n",
    "            km_to_miles = 0.621371\n",
    "            data.loc[:, 'trip_distance_miles'] = data.apply(\n",
    "                lambda row: great_circle(\n",
    "                    (row['pickup_latitude'], row['pickup_longitude']),\n",
    "                    (row['dropoff_latitude'], row['dropoff_longitude'])\n",
    "                ).kilometers * km_to_miles,\n",
    "                axis=1\n",
    "    )\n",
    "\n",
    "    return data"
   ]
  },
  {
   "cell_type": "code",
   "execution_count": null,
   "metadata": {},
   "outputs": [],
   "source": [
    "transformed_uber_data = transform_uber_data(cleaned_uber_data)\n",
    "\n",
    "print(\"Transformed Data Overview:\")\n",
    "print(transformed_uber_data.head())"
   ]
  },
  {
   "cell_type": "code",
   "execution_count": null,
   "metadata": {},
   "outputs": [],
   "source": [
    "transformed_data_path = '../data/processed/uber_data_transformed.csv'\n",
    "transformed_uber_data.to_csv(transformed_data_path, index=False) \n",
    "\n",
    "print(f\"Transformed Uber data saved to {transformed_data_path}.\")"
   ]
  },
  {
   "cell_type": "code",
   "execution_count": null,
   "metadata": {},
   "outputs": [],
   "source": [
    "verified_data = pd.read_csv(transformed_data_path)\n",
    "\n",
    "print(\"Verified Transformed Data Overview:\")\n",
    "print(verified_data.head())\n",
    "# IF LOADS MESSAGE ABOVE BE HAPPY \n",
    "#     ∧＿∧\n",
    "# 　 (｡･ω･｡)つ━☆・*。\n",
    "#  ⊂/　  /　   ・゜\n",
    "# 　しーＪ　　　  °。+ * 。　\n",
    "# 　　　　　         .・゜\n",
    "# 　　　　　          ゜｡ﾟﾟ･｡･ﾟﾟ。\n",
    "# 　　　　           　ﾟ。    ｡ﾟ\n",
    "#                     　ﾟ･｡･ﾟ       \n"
   ]
  }
 ],
 "metadata": {
  "kernelspec": {
   "display_name": "project-1-env",
   "language": "python",
   "name": "python3"
  },
  "language_info": {
   "codemirror_mode": {
    "name": "ipython",
    "version": 3
   },
   "file_extension": ".py",
   "mimetype": "text/x-python",
   "name": "python",
   "nbconvert_exporter": "python",
   "pygments_lexer": "ipython3",
   "version": "3.10.15"
  }
 },
 "nbformat": 4,
 "nbformat_minor": 2
}
