{
 "cells": [
  {
   "cell_type": "code",
   "execution_count": null,
   "metadata": {},
   "outputs": [],
   "source": [
    "import pandas as pd\n",
    "import numpy as np\n",
    "from sklearn.model_selection import train_test_split\n",
    "from sklearn.linear_model import LinearRegression\n",
    "from sklearn.metrics import mean_squared_error"
   ]
  },
  {
   "cell_type": "code",
   "execution_count": null,
   "metadata": {},
   "outputs": [],
   "source": [
    "data = pd.read_csv('../data/processed/uber_data_transformed.csv')  # Adjust the path as necessary\n",
    "\n",
    "# Its nice to show our columns so we know the exact spelling, what we can use etc in the \n",
    "# below cell\n",
    "print(data.columns)  "
   ]
  },
  {
   "cell_type": "code",
   "execution_count": null,
   "metadata": {},
   "outputs": [],
   "source": [
    "# Defining the features used to try and calculate the fare anount\n",
    "target = 'fare_amount'\n",
    "features = data[['trip_distance_miles', 'passenger_count', 'pickup_hour', 'pickup_day_of_week', 'season']]  # Select only the required features\n",
    "\n",
    "# \"Converts categorical variables to dummy/indicators\"\n",
    "# I SAW THIS IN AN ONLINE NOTEBOOK SO IF YOU HAVE INFO LEMME KNOW \n",
    "#  CAUSE I FORGOT WHAT EXACLY THIS DOES\n",
    "features = pd.get_dummies(features, drop_first=True)"
   ]
  },
  {
   "cell_type": "code",
   "execution_count": null,
   "metadata": {},
   "outputs": [],
   "source": [
    "#(ANYONE KNOW WHY IVE BEEN SEEING PEOPLE SAY SPLITTING 80/20 IS BEST?)\n",
    "X_train, X_test, y_train, y_test = train_test_split(features, data[target], test_size=0.2, random_state=42)"
   ]
  },
  {
   "cell_type": "code",
   "execution_count": null,
   "metadata": {},
   "outputs": [],
   "source": [
    "model = LinearRegression()\n",
    "#training bleh\n",
    "model.fit(X_train, y_train)"
   ]
  },
  {
   "cell_type": "code",
   "execution_count": null,
   "metadata": {},
   "outputs": [],
   "source": [
    "predictions = model.predict(X_test)\n",
    "\n",
    "mse = mean_squared_error(y_test, predictions)\n",
    "print(f\"Mean Squared Error: {mse:.2f}\")\n",
    "# Dont forget the Mean Squared Error number below isnt the amount of dollars \n",
    "# we could be off by (got spooked)"
   ]
  }
 ],
 "metadata": {
  "kernelspec": {
   "display_name": "Python 3 (ipykernel)",
   "language": "python",
   "name": "python3"
  },
  "language_info": {
   "codemirror_mode": {
    "name": "ipython",
    "version": 3
   },
   "file_extension": ".py",
   "mimetype": "text/x-python",
   "name": "python",
   "nbconvert_exporter": "python",
   "pygments_lexer": "ipython3",
   "version": "3.12.4"
  }
 },
 "nbformat": 4,
 "nbformat_minor": 4
}
